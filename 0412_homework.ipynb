{
  "cells": [
    {
      "cell_type": "markdown",
      "metadata": {
        "id": "view-in-github",
        "colab_type": "text"
      },
      "source": [
        "<a href=\"https://colab.research.google.com/github/akeyi2018/AI_Web/blob/main/0412_homework.ipynb\" target=\"_parent\"><img src=\"https://colab.research.google.com/assets/colab-badge.svg\" alt=\"Open In Colab\"/></a>"
      ]
    },
    {
      "cell_type": "code",
      "execution_count": null,
      "id": "5e8708d8-6bfd-494b-837f-3d503bbc4d30",
      "metadata": {
        "id": "5e8708d8-6bfd-494b-837f-3d503bbc4d30"
      },
      "outputs": [],
      "source": [
        "# キャラクタークラスの作成\n",
        "class Character():\n",
        "    def __init__(self, name, HP, level, power):\n",
        "        self.name = name\n",
        "        self.HP = HP\n",
        "        self.level = level\n",
        "        self.power = power\n",
        "\n",
        "# 攻撃クラスの作成\n",
        "class Attack(Character):\n",
        "    def __init__(self, name, HP, level, power):\n",
        "        super().__init__(name, HP, level, power)\n",
        "\n",
        "    def attack(self, target_list):\n",
        "        # 攻撃名を表示\n",
        "        print(f\"{self.name}の攻撃！\")\n",
        "        if self.name == \"魔法使い\":\n",
        "            at_name = input(\"攻撃の種類を入力　1，nomal  2,io 3,hoimi\")\n",
        "            if at_name == \"nomal\":\n",
        "                self.take_damage(self.power)\n",
        "            elif at_name == \"io\":\n",
        "                self.io(self.power, target_list)\n",
        "            else:\n",
        "                pass\n",
        "        elif self.name == \"僧侶\":\n",
        "            at_name = input(\"攻撃の種類を入力　1，nomal  2,io 3,hoimi\")\n",
        "            if at_name == \"nomal\":\n",
        "                self.take_damage(self.power)\n",
        "            elif at_name == \"io\":\n",
        "                self.io(self.power, target_list)\n",
        "            elif at_name == \"hoimi\":\n",
        "                self.hoimi(self.power, target_list)\n",
        "\n",
        "        else:\n",
        "            self.take_damage(self.power)\n",
        "\n",
        "    # ダメージを受けるメソッド\n",
        "    def take_damage(self, target):\n",
        "        self.target = target\n",
        "        print(f\"{self.target.name}は{self.power}のダメージを受けた\")\n",
        "        self.target.HP -= self.power\n",
        "        if self.target.HP <= 0:\n",
        "            print(f\"{self.target.name}は倒れた！\")\n",
        "\n",
        "    # 回復するメソッド\n",
        "    def take_heal(self, target):\n",
        "        self.target = target\n",
        "        print(f\"{self.target.name}は{self.power}回復した\")\n",
        "        self.target.HP += self.power\n",
        "\n",
        "    # イオ　メソッド\n",
        "    def io(self, power, target_list):\n",
        "        print(f\"{self.name}はイオを使った!\")\n",
        "        for target in target_list:\n",
        "            self.target = target\n",
        "            self.take_damage(target)\n",
        "\n",
        "    # ホイミ　メソッド\n",
        "    def hoimi(self, power, target_list):\n",
        "        print(f\"{self.name}はホイミを使った！\")\n",
        "        for target in target_list:\n",
        "            self.target = target\n",
        "            self.take_heal(target)\n",
        "\n",
        "\n"
      ]
    },
    {
      "cell_type": "code",
      "execution_count": null,
      "id": "77e6195d-304f-4e45-9db6-26b5602ddb46",
      "metadata": {
        "colab": {
          "base_uri": "https://localhost:8080/"
        },
        "id": "77e6195d-304f-4e45-9db6-26b5602ddb46",
        "outputId": "24bbaf91-c4f3-4153-f433-83d90f9eb699"
      },
      "outputs": [
        {
          "output_type": "stream",
          "name": "stdout",
          "text": [
            "勇者は5のダメージを受けた\n",
            "スライム1は20のダメージを受けた\n",
            "スライム1は倒れた！\n",
            "魔法使いの攻撃！\n",
            "攻撃の種類を入力　1，nomal  2,io 3,hoimiio\n",
            "魔法使いはイオを使った!\n",
            "スライム1は10のダメージを受けた\n",
            "スライム1は倒れた！\n",
            "スライム2は10のダメージを受けた\n",
            "スライム2は倒れた！\n",
            "スライム3は10のダメージを受けた\n",
            "スライム3は倒れた！\n",
            "僧侶の攻撃！\n",
            "攻撃の種類を入力　1，nomal  2,io 3,hoimihoimi\n",
            "僧侶はホイミを使った！\n",
            "勇者は15回復した\n",
            "魔法使いは15回復した\n",
            "僧侶は15回復した\n"
          ]
        }
      ],
      "source": [
        "# test\n",
        "if __name__ == \"__main__\":\n",
        "    hero1 = Character(\"勇者\", 100, 10, 20)\n",
        "    hero2 = Character(\"魔法使い\", 80, 3, 10)\n",
        "    hero3 = Character(\"僧侶\", 60, 5, 15)\n",
        "    hero_list = [hero1, hero2, hero3]\n",
        "\n",
        "    slime1 = Character(\"スライム1\", 2, 30, 5)\n",
        "    slime2 = Character(\"スライム2\", 3, 20, 2)\n",
        "    slime3 = Character(\"スライム3\", 4, 10, 3)\n",
        "    slime_list = [slime1, slime2, slime3]\n",
        "\n",
        "    # スライムの攻撃\n",
        "    slime_at = Attack(slime1.name, slime1.HP, slime1.level, slime1.power)\n",
        "    slime_at.take_damage(hero1)\n",
        "\n",
        "    # 勇者の攻撃\n",
        "    hero_at = Attack(hero1.name, hero1.HP, hero1.level, hero1.power)\n",
        "    hero_at.take_damage(slime1)\n",
        "\n",
        "    # 魔法使いのイオ攻撃\n",
        "    mahou_at = Attack(hero2.name, hero2.HP, hero2.level, hero2.power)\n",
        "    mahou_at.attack(slime_list)\n",
        "\n",
        "    # 僧侶のホイミ\n",
        "    souryo_at = Attack(hero3.name, hero3.HP, hero3.level, hero3.power)\n",
        "    souryo_at.attack(hero_list)"
      ]
    },
    {
      "cell_type": "code",
      "source": [],
      "metadata": {
        "id": "6ZvjtM1S433H"
      },
      "id": "6ZvjtM1S433H",
      "execution_count": null,
      "outputs": []
    },
    {
      "cell_type": "code",
      "execution_count": null,
      "id": "2f1959e5-0a04-4ffa-b215-1c104a44964e",
      "metadata": {
        "id": "2f1959e5-0a04-4ffa-b215-1c104a44964e"
      },
      "outputs": [],
      "source": [
        "# 戦闘クラス\n",
        "class Battle():\n",
        "\n",
        "  #物理攻撃\n",
        "  def physical_attack_sigle(self, target):\n",
        "    pass\n",
        "\n",
        "  def physical_attack_group(self, target):\n",
        "    pass\n",
        "\n",
        "  def physical_attack_all(self, target):\n",
        "    pass\n",
        "\n",
        "  #魔法攻撃\n",
        "  def magic_attack_single(self, target):\n",
        "    pass\n",
        "\n",
        "  def magic_attack_group(self, target):\n",
        "    pass\n",
        "\n",
        "  def magic_attack_all(self, target):\n",
        "    pass\n",
        "\n",
        "  #回復\n",
        "  def heal_single(self, target):\n",
        "    pass\n",
        "\n",
        "  def heal_all(self, target):\n",
        "    pass\n",
        "\n",
        "  # 攻撃などの内容を表示するメソッド\n",
        "  def view_message(self, message):\n",
        "    pass\n",
        "\n",
        "  # 攻撃または回復後のステータスを表示するメソッド\n",
        "  def update_status(self, target):\n",
        "    pass\n",
        "\n",
        "#魔法攻撃クラス\n",
        "class Magic_Battle(Battle):\n",
        "\n",
        "  # イオ\n",
        "  def io(self, target):\n",
        "    # 魔法による全体攻撃\n",
        "    self.magic_attack_all(target)\n",
        "\n",
        "  # イオラ\n",
        "  def iolar(self, target):\n",
        "    self.magic_attack_all(target)\n",
        "\n",
        "  # イオナズン\n",
        "  def ionazen(self, target):\n",
        "    self.magic_attack_all(target)\n",
        ""
      ]
    },
    {
      "cell_type": "code",
      "source": [
        "# キャラクタークラス\n",
        "class Character():\n",
        "    def __init__(self, name, HP, MP, level, power):\n",
        "        self.name = name\n",
        "        self.HP = HP\n",
        "        self.level = level\n",
        "        self.power = power\n",
        "\n",
        "# 職業クラス\n",
        "class Job(Character):\n",
        "    def __init__(self, job_name, job_skill_list):\n",
        "      self.job_name = job_name\n",
        "      self.job_skill_list = job_skill_list\n",
        "\n",
        "# キャラクターマネージャ\n",
        "class Character_maneger():\n",
        "    # キャラクター生成\n",
        "    # キャラクターレベルアップ\n",
        "    # キャラクタースキルリストの更新\n",
        "    # キャラクターの転職\n"
      ],
      "metadata": {
        "id": "Mgih0UDY7YO3"
      },
      "id": "Mgih0UDY7YO3",
      "execution_count": null,
      "outputs": []
    },
    {
      "cell_type": "code",
      "source": [
        "\n",
        "\n",
        "\n"
      ],
      "metadata": {
        "id": "ZSXnHEiZ8KtG"
      },
      "id": "ZSXnHEiZ8KtG",
      "execution_count": null,
      "outputs": []
    }
  ],
  "metadata": {
    "kernelspec": {
      "display_name": "Python 3 (ipykernel)",
      "language": "python",
      "name": "python3"
    },
    "language_info": {
      "codemirror_mode": {
        "name": "ipython",
        "version": 3
      },
      "file_extension": ".py",
      "mimetype": "text/x-python",
      "name": "python",
      "nbconvert_exporter": "python",
      "pygments_lexer": "ipython3",
      "version": "3.12.2"
    },
    "colab": {
      "provenance": [],
      "include_colab_link": true
    }
  },
  "nbformat": 4,
  "nbformat_minor": 5
}